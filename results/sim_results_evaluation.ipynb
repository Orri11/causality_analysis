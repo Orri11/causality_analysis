{
 "cells": [
  {
   "cell_type": "code",
   "execution_count": 9,
   "metadata": {},
   "outputs": [],
   "source": [
    "import os\n",
    "import pandas as pd\n",
    "import numpy as np\n",
    "import matplotlib.pyplot as plt"
   ]
  },
  {
   "cell_type": "code",
   "execution_count": 36,
   "metadata": {},
   "outputs": [],
   "source": [
    "data_type = 'sim'\n",
    "lengths = [90,420]\n",
    "num_series = (50,300)\n",
    "structures = ['stationary','trend']\n",
    "int_type = 'hom'\n",
    "treatment_rate = 0.3\n",
    "pred_len = 24\n",
    "sim_results_path = os.path.join(os.getcwd(),'sim/')"
   ]
  },
  {
   "cell_type": "code",
   "execution_count": 11,
   "metadata": {},
   "outputs": [],
   "source": [
    "#Load DeepProbCP metrics\n",
    "deep_met_path = os.path.join(sim_results_path,'DeepProbCP/metrics/')\n",
    "metrics_cp = {}\n",
    "for length in lengths:\n",
    "    for series in num_series:\n",
    "        for structure in structures:\n",
    "            data_name = data_type + '_' +str(length)+ '_' +str(series)+ '_' + structure+ '_' +int_type + '_'\n",
    "            treated_metrics = pd.read_csv(deep_met_path+ 'mean_median_treated_' + data_name + 'LSTMcell_cocob_12_24_without_stl_decomposition.txt', \n",
    "                                          header = None, sep = ' ')\n",
    "            control_metrics = pd.read_csv(deep_met_path +'mean_median_control_' + data_name + 'LSTMcell_cocob_12_24_without_stl_decomposition.txt', \n",
    "                                          header = None, sep = ' ')\n",
    "            agg_smape = np.round((treated_metrics.iloc[0,1] * treatment_rate) + ( control_metrics.iloc[0,1] * (1-treatment_rate) ),3)\n",
    "            agg_mase = np.round((treated_metrics.iloc[1,1] * treatment_rate) + ( control_metrics.iloc[1,1] * (1-treatment_rate) ),3)\n",
    "            metrics_cp[data_name] = [agg_smape, agg_mase]"
   ]
  },
  {
   "cell_type": "code",
   "execution_count": 16,
   "metadata": {},
   "outputs": [
    {
     "data": {
      "text/plain": [
       "{'sim_90_50_stationary_hom_': [0.016, 0.231],\n",
       " 'sim_90_50_trend_hom_': [0.051, 0.562],\n",
       " 'sim_90_300_stationary_hom_': [0.018, 0.24],\n",
       " 'sim_90_300_trend_hom_': [0.047, 0.528],\n",
       " 'sim_420_50_stationary_hom_': [0.018, 0.243],\n",
       " 'sim_420_50_trend_hom_': [0.027, 0.438],\n",
       " 'sim_420_300_stationary_hom_': [0.017, 0.239],\n",
       " 'sim_420_300_trend_hom_': [0.026, 0.429]}"
      ]
     },
     "execution_count": 16,
     "metadata": {},
     "output_type": "execute_result"
    }
   ],
   "source": [
    "metrics_cp"
   ]
  },
  {
   "cell_type": "code",
   "execution_count": 12,
   "metadata": {},
   "outputs": [],
   "source": [
    "# Load TSMixer metrics\n",
    "tsmixer_met_path = os.path.join(sim_results_path,'tsmixer/metrics/')\n",
    "metrics_tsmixer = {}\n",
    "for length in lengths:\n",
    "    for series in num_series:\n",
    "        for structure in structures:\n",
    "            temp_control = {'smape' : [] , 'mase' : []}\n",
    "            temp_treated = {'smape': [] , 'mase' : []}\n",
    "            for iter in range(1,4):\n",
    "                data_name = data_type + '_' +str(length)+ '_' +str(series)+ '_' + structure+ '_' +int_type + '_'\n",
    "                control_iter = pd.read_csv(tsmixer_met_path+ 'TSMixer' + '_' + data_type + '_'+ data_name + 'M_sl12_pl24_iter' + \\\n",
    "                                            str(iter) + '_metrics_control.csv')\n",
    "                treated_iter = pd.read_csv(tsmixer_met_path+ 'TSMixer' + '_' + data_type + '_' + data_name + 'M_sl12_pl24_iter' + str(iter) + \\\n",
    "                                           '_metrics_treated.csv')\n",
    "                temp_control['smape'].append(control_iter['smape'].values[0])\n",
    "                temp_control['mase'].append(control_iter['mase'].values[0])\n",
    "                temp_treated['smape'].append(treated_iter['smape'].values[0])\n",
    "                temp_treated['mase'].append(treated_iter['mase'].values[0])\n",
    "            control_metrics = list([np.mean(temp_control['smape']),np.mean(temp_control['mase'])])\n",
    "            treated_metrics = list([np.mean(temp_treated['smape']),np.mean(temp_treated['mase'])])\n",
    "            agg_smape = np.round((treated_metrics[0] * treatment_rate) + ( control_metrics[0] * (1-treatment_rate) ),3)\n",
    "            agg_mase = np.round((treated_metrics[1] * treatment_rate) + ( control_metrics[1] * (1-treatment_rate) ),3)\n",
    "            metrics_tsmixer[data_name] = [agg_smape, agg_mase]"
   ]
  },
  {
   "cell_type": "code",
   "execution_count": 13,
   "metadata": {},
   "outputs": [],
   "source": [
    "# Load ASCM metrics\n",
    "ascm_met_path = os.path.join(sim_results_path,'ascm/metrics/')\n",
    "metrics_ascm = {}\n",
    "for length in lengths:\n",
    "    for series in num_series:\n",
    "        for structure in structures:\n",
    "            data_name = data_type + '_' +str(length)+ '_' +str(series)+ '_' + structure+ '_' +int_type + '_'\n",
    "            treated_metrics = pd.read_csv(ascm_met_path+ data_name + 'metrics_control.txt', header = None, sep = ' ')\n",
    "            control_metrics = pd.read_csv(ascm_met_path+ data_name + 'metrics_treated.txt', header = None, sep = ' ')\n",
    "            agg_mase = np.round((treated_metrics.iloc[0,1] * treatment_rate) + ( control_metrics.iloc[0,1] * (1-treatment_rate)),3)\n",
    "            agg_smape = np.round((treated_metrics.iloc[1,1] * treatment_rate) + ( control_metrics.iloc[1,1] * (1-treatment_rate)),3)\n",
    "            metrics_ascm[data_name] = [agg_smape, agg_mase]\n",
    "\n",
    "# Load CausalArima metrics\n",
    "causar_met_path = os.path.join(sim_results_path,'CausalArima/metrics/')\n",
    "metrics_causar = {}\n",
    "for length in lengths:\n",
    "    for series in num_series:\n",
    "        for structure in structures:\n",
    "            data_name = data_type + '_' +str(length)+ '_' +str(series)+ '_' + structure+ '_' +int_type + '_'\n",
    "            treated_metrics = pd.read_csv(causar_met_path+ data_name + 'metrics_control.txt', header = None, sep = ' ')\n",
    "            control_metrics = pd.read_csv(causar_met_path+ data_name + 'metrics_treated.txt', header = None, sep = ' ')\n",
    "            agg_mase = np.round((treated_metrics.iloc[0,1] * treatment_rate) + ( control_metrics.iloc[0,1] * (1-treatment_rate)),3)\n",
    "            agg_smape = np.round((treated_metrics.iloc[1,1] * treatment_rate) + ( control_metrics.iloc[1,1] * (1-treatment_rate)),3)\n",
    "            metrics_causar[data_name] = [agg_smape, agg_mase]\n"
   ]
  },
  {
   "cell_type": "code",
   "execution_count": 17,
   "metadata": {},
   "outputs": [
    {
     "data": {
      "text/html": [
       "<div>\n",
       "<style scoped>\n",
       "    .dataframe tbody tr th:only-of-type {\n",
       "        vertical-align: middle;\n",
       "    }\n",
       "\n",
       "    .dataframe tbody tr th {\n",
       "        vertical-align: top;\n",
       "    }\n",
       "\n",
       "    .dataframe thead th {\n",
       "        text-align: right;\n",
       "    }\n",
       "</style>\n",
       "<table border=\"1\" class=\"dataframe\">\n",
       "  <thead>\n",
       "    <tr style=\"text-align: right;\">\n",
       "      <th></th>\n",
       "      <th>TSMixer</th>\n",
       "      <th>DeepProbCP</th>\n",
       "      <th>ASCM</th>\n",
       "      <th>CausalArima</th>\n",
       "    </tr>\n",
       "  </thead>\n",
       "  <tbody>\n",
       "    <tr>\n",
       "      <th>sim_90_50_stationary_hom_</th>\n",
       "      <td>[0.085, 1.214]</td>\n",
       "      <td>[0.016, 0.231]</td>\n",
       "      <td>[0.063, 0.905]</td>\n",
       "      <td>[0.05, 0.737]</td>\n",
       "    </tr>\n",
       "    <tr>\n",
       "      <th>sim_90_50_trend_hom_</th>\n",
       "      <td>[0.103, 1.138]</td>\n",
       "      <td>[0.051, 0.562]</td>\n",
       "      <td>[0.067, 0.758]</td>\n",
       "      <td>[0.061, 0.682]</td>\n",
       "    </tr>\n",
       "    <tr>\n",
       "      <th>sim_90_300_stationary_hom_</th>\n",
       "      <td>[0.092, 1.257]</td>\n",
       "      <td>[0.018, 0.24]</td>\n",
       "      <td>[0.067, 0.9]</td>\n",
       "      <td>[0.05, 0.672]</td>\n",
       "    </tr>\n",
       "    <tr>\n",
       "      <th>sim_90_300_trend_hom_</th>\n",
       "      <td>[0.102, 1.134]</td>\n",
       "      <td>[0.047, 0.528]</td>\n",
       "      <td>[0.068, 0.767]</td>\n",
       "      <td>[0.047, 0.526]</td>\n",
       "    </tr>\n",
       "    <tr>\n",
       "      <th>sim_420_50_stationary_hom_</th>\n",
       "      <td>[0.025, 0.352]</td>\n",
       "      <td>[0.018, 0.243]</td>\n",
       "      <td>[0.066, 0.902]</td>\n",
       "      <td>[0.037, 0.504]</td>\n",
       "    </tr>\n",
       "    <tr>\n",
       "      <th>sim_420_50_trend_hom_</th>\n",
       "      <td>[0.025, 0.403]</td>\n",
       "      <td>[0.027, 0.438]</td>\n",
       "      <td>[0.071, 1.175]</td>\n",
       "      <td>[0.027, 0.451]</td>\n",
       "    </tr>\n",
       "    <tr>\n",
       "      <th>sim_420_300_stationary_hom_</th>\n",
       "      <td>[0.023, 0.322]</td>\n",
       "      <td>[0.017, 0.239]</td>\n",
       "      <td>[0.065, 0.896]</td>\n",
       "      <td>[0.038, 0.522]</td>\n",
       "    </tr>\n",
       "    <tr>\n",
       "      <th>sim_420_300_trend_hom_</th>\n",
       "      <td>[0.029, 0.478]</td>\n",
       "      <td>[0.026, 0.429]</td>\n",
       "      <td>[0.075, 1.23]</td>\n",
       "      <td>[0.028, 0.459]</td>\n",
       "    </tr>\n",
       "  </tbody>\n",
       "</table>\n",
       "</div>"
      ],
      "text/plain": [
       "                                    TSMixer      DeepProbCP            ASCM  \\\n",
       "sim_90_50_stationary_hom_    [0.085, 1.214]  [0.016, 0.231]  [0.063, 0.905]   \n",
       "sim_90_50_trend_hom_         [0.103, 1.138]  [0.051, 0.562]  [0.067, 0.758]   \n",
       "sim_90_300_stationary_hom_   [0.092, 1.257]   [0.018, 0.24]    [0.067, 0.9]   \n",
       "sim_90_300_trend_hom_        [0.102, 1.134]  [0.047, 0.528]  [0.068, 0.767]   \n",
       "sim_420_50_stationary_hom_   [0.025, 0.352]  [0.018, 0.243]  [0.066, 0.902]   \n",
       "sim_420_50_trend_hom_        [0.025, 0.403]  [0.027, 0.438]  [0.071, 1.175]   \n",
       "sim_420_300_stationary_hom_  [0.023, 0.322]  [0.017, 0.239]  [0.065, 0.896]   \n",
       "sim_420_300_trend_hom_       [0.029, 0.478]  [0.026, 0.429]   [0.075, 1.23]   \n",
       "\n",
       "                                CausalArima  \n",
       "sim_90_50_stationary_hom_     [0.05, 0.737]  \n",
       "sim_90_50_trend_hom_         [0.061, 0.682]  \n",
       "sim_90_300_stationary_hom_    [0.05, 0.672]  \n",
       "sim_90_300_trend_hom_        [0.047, 0.526]  \n",
       "sim_420_50_stationary_hom_   [0.037, 0.504]  \n",
       "sim_420_50_trend_hom_        [0.027, 0.451]  \n",
       "sim_420_300_stationary_hom_  [0.038, 0.522]  \n",
       "sim_420_300_trend_hom_       [0.028, 0.459]  "
      ]
     },
     "execution_count": 17,
     "metadata": {},
     "output_type": "execute_result"
    }
   ],
   "source": [
    "df_metrics = pd.DataFrame(index=metrics_cp.keys(), columns=['TSMixer','DeepProbCP','ASCM','CausalArima'])\n",
    "df_metrics['TSMixer'] = metrics_tsmixer.values()\n",
    "df_metrics['DeepProbCP'] = metrics_cp.values()\n",
    "df_metrics['ASCM'] = metrics_ascm.values()\n",
    "df_metrics['CausalArima'] = metrics_causar.values()\n",
    "\n",
    "df_metrics"
   ]
  },
  {
   "cell_type": "markdown",
   "metadata": {},
   "source": [
    "## ATE\n"
   ]
  },
  {
   "cell_type": "code",
   "execution_count": 54,
   "metadata": {},
   "outputs": [],
   "source": [
    "# Real ATE\n",
    "sim_data_path = os.path.join(os.getcwd(),'..', 'data/sim/')\n",
    "real_ate_dict = {}\n",
    "for length in lengths:\n",
    "    for series in num_series:\n",
    "        for structure in structures:\n",
    "            data_name = data_type + '_' +str(length)+ '_' +str(series)+ '_' + structure+ '_' +int_type \n",
    "            treated_indices = np.loadtxt(sim_data_path + data_name + '_' + 'treated_indices' + '.txt', dtype = int)\n",
    "            real_data = pd.read_csv(sim_data_path + data_name + '.csv').iloc[length-pred_len:,treated_indices]\n",
    "            counterfactual_data = pd.read_csv(sim_data_path + data_name + '_' + 'true_counterfactual' '.csv').iloc[length-pred_len:,treated_indices]\n",
    "            ate = np.mean(counterfactual_data - real_data)\n",
    "            real_ate_dict[data_name] = ate"
   ]
  },
  {
   "cell_type": "code",
   "execution_count": 55,
   "metadata": {},
   "outputs": [
    {
     "data": {
      "text/plain": [
       "{'sim_90_50_stationary_hom': 6.7239591011320945,\n",
       " 'sim_90_50_trend_hom': 13.763941115586693,\n",
       " 'sim_90_300_stationary_hom': 7.055929241637349,\n",
       " 'sim_90_300_trend_hom': 13.453976952378618,\n",
       " 'sim_420_50_stationary_hom': 7.108703015934114,\n",
       " 'sim_420_50_trend_hom': 24.064092635667805,\n",
       " 'sim_420_300_stationary_hom': 6.91126835040997,\n",
       " 'sim_420_300_trend_hom': 24.069603280024772}"
      ]
     },
     "execution_count": 55,
     "metadata": {},
     "output_type": "execute_result"
    }
   ],
   "source": [
    "real_ate_dict"
   ]
  }
 ],
 "metadata": {
  "kernelspec": {
   "display_name": "thesis",
   "language": "python",
   "name": "python3"
  },
  "language_info": {
   "codemirror_mode": {
    "name": "ipython",
    "version": 3
   },
   "file_extension": ".py",
   "mimetype": "text/x-python",
   "name": "python",
   "nbconvert_exporter": "python",
   "pygments_lexer": "ipython3",
   "version": "3.10.16"
  }
 },
 "nbformat": 4,
 "nbformat_minor": 2
}
