{
 "cells": [
  {
   "cell_type": "code",
   "execution_count": 257,
   "metadata": {},
   "outputs": [],
   "source": [
    "import pandas as pd\n",
    "import numpy as np\n",
    "import matplotlib.pyplot as plt\n",
    "import xlrd\n",
    "import os"
   ]
  },
  {
   "cell_type": "code",
   "execution_count": 336,
   "metadata": {},
   "outputs": [],
   "source": [
    "base_dir = os.path.join(os.getcwd(),'..', '..', '..')\n",
    "data_dir = os.path.join(base_dir, 'data/elec_price/')\n",
    "gas_data = pd.read_excel(data_dir + 'gas_price_data.xls')\n",
    "income_data = pd.read_csv(data_dir + 'income_data.csv', sep= ',')\n",
    "elec_price_full_data = pd.read_csv(data_dir + 'PriceMT_full_table.csv')"
   ]
  },
  {
   "cell_type": "markdown",
   "metadata": {},
   "source": [
    "### Income data\n"
   ]
  },
  {
   "cell_type": "code",
   "execution_count": 337,
   "metadata": {},
   "outputs": [],
   "source": [
    "income_data.drop(columns='GeoFips',inplace = True)\n",
    "income_data.iloc[1,0] = 'Alaska'\n",
    "income_data.iloc[11,0] = 'Hawaii'\n",
    "income_data.drop(index = 8,inplace=True)\n",
    "income_data = income_data.reset_index(drop=True)"
   ]
  },
  {
   "cell_type": "code",
   "execution_count": null,
   "metadata": {},
   "outputs": [],
   "source": [
    "expanded_income_data = pd.DataFrame()\n",
    "income_data.set_index('GeoName', inplace=True)\n",
    "income_data.index.name = None\n",
    "for col in income_data.columns:\n",
    "    period_str = col.replace(\":\", \"\")\n",
    "    start_month = pd.Period(period_str, freq=\"Q\").to_timestamp()\n",
    "    months = [start_month + pd.DateOffset(months=i) for i in range(3)]\n",
    "    for month in months:\n",
    "        expanded_income_data[month.strftime(\"%Y-%m\")] = income_data[col]\n",
    "    \n",
    "expanded_income_data.columns = pd.to_datetime(expanded_income_data.columns, format='%Y-%m')\n",
    "expanded_income_data = expanded_income_data.loc[:,(expanded_income_data.columns >= '1990-01') & (expanded_income_data.columns < '2000-01')]"
   ]
  },
  {
   "cell_type": "code",
   "execution_count": 339,
   "metadata": {},
   "outputs": [],
   "source": [
    "row_income_data = expanded_income_data.copy()\n",
    "row_income_data.insert(0,'state',elec_price_full_data.columns.to_list())\n",
    "row_income_data = row_income_data.reset_index(drop=True)\n",
    "new_columns = [row_income_data.columns[0]] + pd.to_datetime(row_income_data.columns[1:]).strftime('%Y-%m-%d').tolist()\n",
    "row_income_data.columns = new_columns\n",
    "\n",
    "row_income_data_train = row_income_data.iloc[:,0:97]\n",
    "row_income_data_train.to_csv(data_dir + 'row_income_data_train.txt', index=False, header = None)\n",
    "\n",
    "expanded_income_data = expanded_income_data.T\n",
    "expanded_income_data.columns = elec_price_full_data.columns.to_list()\n",
    "expanded_income_data.to_csv(data_dir + 'income_data_full_table.csv', index=False, header = True)"
   ]
  },
  {
   "cell_type": "markdown",
   "metadata": {},
   "source": [
    "### Gas Price data\n"
   ]
  },
  {
   "cell_type": "code",
   "execution_count": 310,
   "metadata": {},
   "outputs": [],
   "source": [
    "gas_data = pd.read_excel(data_dir + 'gas_price_data.xls')\n",
    "gas_data.set_index('Date', inplace=True)\n",
    "gas_data.drop(columns='U.S. Natural Gas Citygate Price (Dollars per Thousand Cubic Feet)',inplace = True)\n",
    "gas_data.index.name = None\n",
    "gas_data.columns = elec_price_full_data.columns.to_list()\n",
    "gas_data = gas_data.loc[(gas_data.index >= '1990-01-01') & (gas_data.index < '2000-01-01'),:]\n",
    "nans = np.where(pd.isna(gas_data))\n",
    "for i in range(len(np.where(pd.isna(gas_data))[0])):\n",
    "    gas_data.iloc[nans[0][i],nans[1][i]] = gas_data.iloc[nans[0][i]-1,nans[1][i]]\n"
   ]
  },
  {
   "cell_type": "code",
   "execution_count": 315,
   "metadata": {},
   "outputs": [],
   "source": [
    "gas_data_row = gas_data.transpose()\n",
    "gas_data_row.insert(0,'state',gas_data_row.index)\n",
    "gas_data_row = gas_data_row.reset_index(drop=True)\n",
    "new_columns = [gas_data_row.columns[0]] + pd.to_datetime(gas_data_row.columns[1:]).strftime('%Y-%m-%d').tolist()\n",
    "gas_data_row.columns = new_columns\n",
    "gas_data_row_train = gas_data_row.iloc[:,0:97]"
   ]
  },
  {
   "cell_type": "code",
   "execution_count": 316,
   "metadata": {},
   "outputs": [],
   "source": [
    "gas_data_row_train.to_csv(data_dir + 'gas_data_train.txt', index=False, header = None)\n",
    "gas_data.to_csv(data_dir + 'gas_data_full_table.csv', index=False, header = True)"
   ]
  }
 ],
 "metadata": {
  "kernelspec": {
   "display_name": "thesis",
   "language": "python",
   "name": "python3"
  },
  "language_info": {
   "codemirror_mode": {
    "name": "ipython",
    "version": 3
   },
   "file_extension": ".py",
   "mimetype": "text/x-python",
   "name": "python",
   "nbconvert_exporter": "python",
   "pygments_lexer": "ipython3",
   "version": "3.10.16"
  }
 },
 "nbformat": 4,
 "nbformat_minor": 2
}
