{
 "cells": [
  {
   "cell_type": "code",
   "execution_count": 1,
   "metadata": {},
   "outputs": [],
   "source": [
    "import pandas as pd\n",
    "import os \n",
    "import numpy as np\n",
    "from TSMixerAPI import TSMixer\n",
    "from metrics import metric"
   ]
  },
  {
   "cell_type": "markdown",
   "metadata": {},
   "source": [
    "### Sim Dataset"
   ]
  },
  {
   "cell_type": "code",
   "execution_count": 32,
   "metadata": {},
   "outputs": [],
   "source": [
    "lengths = [90,420]\n",
    "num_series = [50,300]\n",
    "strctures = ['stationary','trend']\n",
    "int_type = 'hom'\n",
    "data_type = 'sim'\n",
    "seasonality_period = 30\n",
    "pred_len = 24\n",
    "data_root_path = base_dir = os.path.join(os.getcwd(),'../../../')"
   ]
  },
  {
   "cell_type": "code",
   "execution_count": null,
   "metadata": {},
   "outputs": [],
   "source": [
    "model = TSMixer()\n",
    "model.compile(learning_rate=1e-4, loss='mae')\n",
    "for iter in range(model.args.itr):\n",
    "    for len in lengths:\n",
    "        for series in num_series:\n",
    "            for strcture in strctures:\n",
    "                data_name = data_type + '_' + str(len) + '_' + str(series) + '_' + strcture + '_' + int_type\n",
    "                print(f\"Training {TSMixer.__name__} on {data_name} with pred_len {pred_len}\")\n",
    "\n",
    "                model.fit(\n",
    "                iter = iter + 1,\n",
    "                data_type = data_type,\n",
    "                data_name=data_name,\n",
    "                data_root_path=data_root_path,\n",
    "                batch_size=32,\n",
    "                epochs=100,\n",
    "                seasonality_period = seasonality_period,\n",
    "                pred_len=pred_len,\n",
    "                features = 'M',\n",
    "                state_index = None\n",
    "                )\n",
    "\n",
    "                predictions = model.predict()\n",
    "\n",
    "                print(f'\\nMoving to next...\\n')"
   ]
  },
  {
   "cell_type": "markdown",
   "metadata": {},
   "source": [
    "### Electricity Price Dataset"
   ]
  },
  {
   "cell_type": "code",
   "execution_count": 9,
   "metadata": {},
   "outputs": [],
   "source": [
    "seasonality_period = 12\n",
    "seq_len = 12\n",
    "pred_len = 24\n",
    "data_type = 'elec_price'\n",
    "data_root_path = os.path.join(os.getcwd(),'../../../')\n",
    "data_name = 'priceMT' \n",
    "features = 'MS'\n",
    "setting = f\"TSMixer_{data_type}_{data_name}_{features}_sl{seq_len}_pl{pred_len}\""
   ]
  },
  {
   "cell_type": "code",
   "execution_count": null,
   "metadata": {},
   "outputs": [],
   "source": [
    "model = TSMixer()\n",
    "model.compile(learning_rate=1e-4, loss='mae')\n",
    "for i in range (1):\n",
    "    for iter in range(model.args.itr):\n",
    "        \n",
    "    \n",
    "        print(f\"Training {TSMixer.__name__} on {data_name} with pred_len {pred_len}\")\n",
    "\n",
    "        model.fit(\n",
    "        iter = iter + 1,\n",
    "        data_type = data_type,\n",
    "        data_name=data_name,\n",
    "        data_root_path=data_root_path,\n",
    "        batch_size=32,\n",
    "        epochs=100,\n",
    "        seasonality_period = seasonality_period,\n",
    "        pred_len=pred_len,\n",
    "        features = 'MS',\n",
    "        target=\"TARGET\",\n",
    "        state_index = i\n",
    "        )\n",
    "\n",
    "        predictions_iter = model.predict()\n",
    "        predictions = pd.concat(predictions_iter, axis=1)\n",
    "\n",
    "    print(f'\\nMoving to next...\\n')\n",
    "        "
   ]
  },
  {
   "cell_type": "code",
   "execution_count": 4,
   "metadata": {},
   "outputs": [],
   "source": [
    "control = ['AK', 'AL', 'AR', 'AZ', 'CO', 'DE', 'ID', 'FL', 'GA', 'HI', 'IA', 'IN', 'KS', 'KY', 'LA', \n",
    "            'ME', 'MN', 'MI', 'MO', 'MS', 'MT', 'NC', 'ND', 'NE', 'NH', 'NM', 'NV', 'OH', 'OK', 'OR',\n",
    "            'SC', 'SD', 'TN', 'TX', 'UT', 'VA', 'VT', 'WA', 'WI', 'WV', 'WY']"
   ]
  },
  {
   "cell_type": "code",
   "execution_count": 23,
   "metadata": {},
   "outputs": [],
   "source": [
    "df_raw = pd.read_csv(data_root_path+ \"data/\" + data_type + \"/\" + data_name + \"_\" + \\\n",
    "                                  \"full_table\" + \".csv\")\n",
    "trues = df_raw.iloc[len(df_raw)- pred_len:,:]\n",
    "trues_control = np.array(df_raw.loc[len(df_raw)- pred_len:,control])        \n",
    "df_a_control =  df_raw.loc[:(len(df_raw)- pred_len)  ,control] "
   ]
  },
  {
   "cell_type": "code",
   "execution_count": 6,
   "metadata": {},
   "outputs": [],
   "source": [
    "preds = pd.read_csv(\"/Users/orshahar/Desktop/School/causality_analysis/results/elec_price/tsmixer/forecasts/TSMixer_elec_price_priceMT_MS_sl12_pl24_preds.csv\").iloc[:,1:51]\n",
    "preds_control = np.array(preds.loc[:,control])\n",
    "preds_for_errors_control = np.array(preds_control)\n"
   ]
  },
  {
   "cell_type": "code",
   "execution_count": 24,
   "metadata": {},
   "outputs": [],
   "source": [
    "metric_folder_path = data_root_path + \"/results/\" + data_type + \"/\" + \"tsmixer/\"  +  \"metrics\" + \"/\"\n",
    "mae_control, mse_control, rmse_control, smape_control, mase_control = metric( \n",
    "        preds_for_errors_control, trues_control ,df_a_control, seasonality_period)\n",
    "\n",
    "all_metrics_control = [mae_control, mse_control, rmse_control, smape_control, mase_control]\n",
    "metric_list = ['mae', 'mse', 'rmse', 'smape', 'mase']\n",
    "metric_df_control = pd.DataFrame([all_metrics_control], columns=metric_list)\n",
    "metric_df_control.to_csv(metric_folder_path + setting + \"_\" + \"metrics_control.csv\", index = False)"
   ]
  },
  {
   "cell_type": "code",
   "execution_count": 25,
   "metadata": {},
   "outputs": [
    {
     "data": {
      "text/html": [
       "<div>\n",
       "<style scoped>\n",
       "    .dataframe tbody tr th:only-of-type {\n",
       "        vertical-align: middle;\n",
       "    }\n",
       "\n",
       "    .dataframe tbody tr th {\n",
       "        vertical-align: top;\n",
       "    }\n",
       "\n",
       "    .dataframe thead th {\n",
       "        text-align: right;\n",
       "    }\n",
       "</style>\n",
       "<table border=\"1\" class=\"dataframe\">\n",
       "  <thead>\n",
       "    <tr style=\"text-align: right;\">\n",
       "      <th></th>\n",
       "      <th>mae</th>\n",
       "      <th>mse</th>\n",
       "      <th>rmse</th>\n",
       "      <th>smape</th>\n",
       "      <th>mase</th>\n",
       "    </tr>\n",
       "  </thead>\n",
       "  <tbody>\n",
       "    <tr>\n",
       "      <th>0</th>\n",
       "      <td>0.403657</td>\n",
       "      <td>0.357113</td>\n",
       "      <td>0.597589</td>\n",
       "      <td>0.051772</td>\n",
       "      <td>2.191313</td>\n",
       "    </tr>\n",
       "  </tbody>\n",
       "</table>\n",
       "</div>"
      ],
      "text/plain": [
       "        mae       mse      rmse     smape      mase\n",
       "0  0.403657  0.357113  0.597589  0.051772  2.191313"
      ]
     },
     "execution_count": 25,
     "metadata": {},
     "output_type": "execute_result"
    }
   ],
   "source": [
    "metric_df_control"
   ]
  }
 ],
 "metadata": {
  "kernelspec": {
   "display_name": "thesis",
   "language": "python",
   "name": "python3"
  },
  "language_info": {
   "codemirror_mode": {
    "name": "ipython",
    "version": 3
   },
   "file_extension": ".py",
   "mimetype": "text/x-python",
   "name": "python",
   "nbconvert_exporter": "python",
   "pygments_lexer": "ipython3",
   "version": "3.10.16"
  }
 },
 "nbformat": 4,
 "nbformat_minor": 2
}
